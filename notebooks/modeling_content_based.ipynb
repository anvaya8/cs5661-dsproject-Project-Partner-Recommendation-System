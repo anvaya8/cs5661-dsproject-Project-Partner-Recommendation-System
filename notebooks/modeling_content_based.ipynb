{
 "cells": [
  {
   "cell_type": "code",
   "execution_count": 4,
   "id": "e46dd216-8302-4111-adc8-faaf933fafc4",
   "metadata": {},
   "outputs": [],
   "source": [
    "import pandas as pd\n",
    "from sklearn.metrics.pairwise import cosine_similarity\n",
    "from sklearn.feature_extraction.text import TfidfVectorizer\n",
    "import numpy as np\n"
   ]
  },
  {
   "cell_type": "code",
   "execution_count": 5,
   "id": "5a729c37-844f-4a7d-85d0-3d22b0204b40",
   "metadata": {},
   "outputs": [
    {
     "data": {
      "text/html": [
       "<div>\n",
       "<style scoped>\n",
       "    .dataframe tbody tr th:only-of-type {\n",
       "        vertical-align: middle;\n",
       "    }\n",
       "\n",
       "    .dataframe tbody tr th {\n",
       "        vertical-align: top;\n",
       "    }\n",
       "\n",
       "    .dataframe thead th {\n",
       "        text-align: right;\n",
       "    }\n",
       "</style>\n",
       "<table border=\"1\" class=\"dataframe\">\n",
       "  <thead>\n",
       "    <tr style=\"text-align: right;\">\n",
       "      <th></th>\n",
       "      <th>Username</th>\n",
       "      <th>Name</th>\n",
       "      <th>Bio</th>\n",
       "      <th>Public_Repos</th>\n",
       "      <th>Followers</th>\n",
       "      <th>Following</th>\n",
       "      <th>Repositories</th>\n",
       "      <th>Languages</th>\n",
       "      <th>Location</th>\n",
       "      <th>Latitude</th>\n",
       "      <th>Longitude</th>\n",
       "      <th>Profile_URL</th>\n",
       "      <th>Languages_encoded</th>\n",
       "      <th>Location_encoded</th>\n",
       "    </tr>\n",
       "  </thead>\n",
       "  <tbody>\n",
       "    <tr>\n",
       "      <th>0</th>\n",
       "      <td>mojombo</td>\n",
       "      <td>Tom Preston-Werner</td>\n",
       "      <td>No Bio Provided</td>\n",
       "      <td>0.037521</td>\n",
       "      <td>0.747329</td>\n",
       "      <td>0.002086</td>\n",
       "      <td>30daysoflaptops.github.io, asteroids, benbalte...</td>\n",
       "      <td>CSS, JavaScript, C, Ruby, Scheme, TypeScript, ...</td>\n",
       "      <td>San Francisco</td>\n",
       "      <td>37.779259</td>\n",
       "      <td>-122.419329</td>\n",
       "      <td>https://github.com/mojombo</td>\n",
       "      <td>170</td>\n",
       "      <td>969</td>\n",
       "    </tr>\n",
       "    <tr>\n",
       "      <th>1</th>\n",
       "      <td>defunkt</td>\n",
       "      <td>Chris Wanstrath</td>\n",
       "      <td>🍔</td>\n",
       "      <td>0.060830</td>\n",
       "      <td>0.694782</td>\n",
       "      <td>0.040774</td>\n",
       "      <td>ace, acts_as_textiled, ambition, ambitious_act...</td>\n",
       "      <td>JavaScript, Ruby, CoffeeScript, HTML, Emacs Li...</td>\n",
       "      <td>Unknown</td>\n",
       "      <td>0.000000</td>\n",
       "      <td>0.000000</td>\n",
       "      <td>https://github.com/defunkt</td>\n",
       "      <td>1876</td>\n",
       "      <td>1187</td>\n",
       "    </tr>\n",
       "    <tr>\n",
       "      <th>2</th>\n",
       "      <td>pjhyett</td>\n",
       "      <td>PJ Hyett</td>\n",
       "      <td>No Bio Provided</td>\n",
       "      <td>0.004548</td>\n",
       "      <td>0.257687</td>\n",
       "      <td>0.005689</td>\n",
       "      <td>auto_migrations, blackjax, errcount, git-serve...</td>\n",
       "      <td>JavaScript, Ruby</td>\n",
       "      <td>Unknown</td>\n",
       "      <td>0.000000</td>\n",
       "      <td>0.000000</td>\n",
       "      <td>https://github.com/pjhyett</td>\n",
       "      <td>1871</td>\n",
       "      <td>1187</td>\n",
       "    </tr>\n",
       "    <tr>\n",
       "      <th>3</th>\n",
       "      <td>wycats</td>\n",
       "      <td>Yehuda Katz</td>\n",
       "      <td>No Bio Provided</td>\n",
       "      <td>0.169983</td>\n",
       "      <td>0.318037</td>\n",
       "      <td>0.002465</td>\n",
       "      <td>2025-heroku-plans, abbot-from-scratch, abbot-n...</td>\n",
       "      <td>JavaScript, Rust, CSS, Ruby, CoffeeScript, She...</td>\n",
       "      <td>Portland, OR</td>\n",
       "      <td>45.520247</td>\n",
       "      <td>-122.674194</td>\n",
       "      <td>https://github.com/wycats</td>\n",
       "      <td>1968</td>\n",
       "      <td>866</td>\n",
       "    </tr>\n",
       "    <tr>\n",
       "      <th>4</th>\n",
       "      <td>ezmobius</td>\n",
       "      <td>Ezra Zygmuntowicz</td>\n",
       "      <td>No Bio Provided</td>\n",
       "      <td>0.012507</td>\n",
       "      <td>0.017712</td>\n",
       "      <td>0.002465</td>\n",
       "      <td>acl_system2, bmhsearch, chef-101, chef-deploy,...</td>\n",
       "      <td>Perl, C, C++, Ruby</td>\n",
       "      <td>In the NW</td>\n",
       "      <td>0.000000</td>\n",
       "      <td>0.000000</td>\n",
       "      <td>https://github.com/ezmobius</td>\n",
       "      <td>2400</td>\n",
       "      <td>476</td>\n",
       "    </tr>\n",
       "  </tbody>\n",
       "</table>\n",
       "</div>"
      ],
      "text/plain": [
       "   Username                Name              Bio  Public_Repos  Followers  \\\n",
       "0   mojombo  Tom Preston-Werner  No Bio Provided      0.037521   0.747329   \n",
       "1   defunkt     Chris Wanstrath                🍔      0.060830   0.694782   \n",
       "2   pjhyett            PJ Hyett  No Bio Provided      0.004548   0.257687   \n",
       "3    wycats         Yehuda Katz  No Bio Provided      0.169983   0.318037   \n",
       "4  ezmobius   Ezra Zygmuntowicz  No Bio Provided      0.012507   0.017712   \n",
       "\n",
       "   Following                                       Repositories  \\\n",
       "0   0.002086  30daysoflaptops.github.io, asteroids, benbalte...   \n",
       "1   0.040774  ace, acts_as_textiled, ambition, ambitious_act...   \n",
       "2   0.005689  auto_migrations, blackjax, errcount, git-serve...   \n",
       "3   0.002465  2025-heroku-plans, abbot-from-scratch, abbot-n...   \n",
       "4   0.002465  acl_system2, bmhsearch, chef-101, chef-deploy,...   \n",
       "\n",
       "                                           Languages       Location  \\\n",
       "0  CSS, JavaScript, C, Ruby, Scheme, TypeScript, ...  San Francisco   \n",
       "1  JavaScript, Ruby, CoffeeScript, HTML, Emacs Li...        Unknown   \n",
       "2                                   JavaScript, Ruby        Unknown   \n",
       "3  JavaScript, Rust, CSS, Ruby, CoffeeScript, She...   Portland, OR   \n",
       "4                                 Perl, C, C++, Ruby      In the NW   \n",
       "\n",
       "    Latitude   Longitude                  Profile_URL  Languages_encoded  \\\n",
       "0  37.779259 -122.419329   https://github.com/mojombo                170   \n",
       "1   0.000000    0.000000   https://github.com/defunkt               1876   \n",
       "2   0.000000    0.000000   https://github.com/pjhyett               1871   \n",
       "3  45.520247 -122.674194    https://github.com/wycats               1968   \n",
       "4   0.000000    0.000000  https://github.com/ezmobius               2400   \n",
       "\n",
       "   Location_encoded  \n",
       "0               969  \n",
       "1              1187  \n",
       "2              1187  \n",
       "3               866  \n",
       "4               476  "
      ]
     },
     "execution_count": 5,
     "metadata": {},
     "output_type": "execute_result"
    }
   ],
   "source": [
    "df = pd.read_csv(\"../data/cleaned_github_users.csv\")  \n",
    "df.head()"
   ]
  },
  {
   "cell_type": "code",
   "execution_count": 6,
   "id": "4e6abb6a-3a79-4ae5-8d29-d118e66d199d",
   "metadata": {},
   "outputs": [],
   "source": [
    "# Remove duplicate users\n",
    "df.drop_duplicates(subset='Username', inplace=True)\n",
    "\n",
    "# Remove users with no useful info (neither Languages nor Repositories)\n",
    "df = df[~((df['Languages'] == 'Unknown') & (df['Repositories'] == 'Unknown'))]\n",
    "\n"
   ]
  },
  {
   "cell_type": "code",
   "execution_count": 7,
   "id": "6624a788-2213-4485-909b-2500d2d0e463",
   "metadata": {},
   "outputs": [],
   "source": [
    "df['combined_features'] = df['Languages'].fillna('') + ' ' + df['Repositories'].fillna('')\n"
   ]
  },
  {
   "cell_type": "code",
   "execution_count": 8,
   "id": "94fa72c4-6988-46fd-aeac-d4c0e879216a",
   "metadata": {},
   "outputs": [],
   "source": [
    "vectorizer = TfidfVectorizer(stop_words='english')\n",
    "feature_matrix = vectorizer.fit_transform(df['combined_features'])\n"
   ]
  },
  {
   "cell_type": "code",
   "execution_count": 9,
   "id": "7490504a-997c-43df-b020-01239ab7bce2",
   "metadata": {},
   "outputs": [],
   "source": [
    "similarity_matrix = cosine_similarity(feature_matrix)"
   ]
  },
  {
   "cell_type": "code",
   "execution_count": 10,
   "id": "2e1f05e8-fa3e-4f3a-b725-a6a37cd3d728",
   "metadata": {},
   "outputs": [],
   "source": [
    "def recommend_partners(username, preferred_location=None, top_k=5):\n",
    "    if username not in df['Username'].values:\n",
    "        print(\"❌ Username not found.\")\n",
    "        return pd.DataFrame()\n",
    "\n",
    "    idx = df.index[df['Username'] == username][0]\n",
    "    user_similarities = similarity_matrix[idx]\n",
    "    \n",
    "    # Get top k similar users (excluding self)\n",
    "    similar_indices = user_similarities.argsort()[::-1][1:top_k+10]  # buffer for location filter\n",
    "\n",
    "    recommendations = df.iloc[similar_indices].copy()\n",
    "    recommendations['similarity'] = user_similarities[similar_indices]\n",
    "\n",
    "    # Optional: Location filter\n",
    "    if preferred_location:\n",
    "        recommendations = recommendations[recommendations['Location'].str.contains(preferred_location, case=False, na=False)]\n",
    "\n",
    "    # Return top K\n",
    "    return recommendations[['Username', 'Languages', 'Repositories', 'Location', 'Profile_URL', 'similarity']].head(top_k)\n"
   ]
  },
  {
   "cell_type": "code",
   "execution_count": 11,
   "id": "e24b39f9-8d85-4858-83cb-e209c1a9baaa",
   "metadata": {},
   "outputs": [
    {
     "name": "stdout",
     "output_type": "stream",
     "text": [
      "🔍 Recommendations for user: abhay\n",
      "         Username                                          Languages  \\\n",
      "3097     Zenithar  XSLT, JavaScript, CSS, Go, Ruby, Python, Scala...   \n",
      "83      freeformz        Go, Ruby, Python, Kotlin, HTML, Shell, VimL   \n",
      "242           psi  JavaScript, Makefile, Go, Ruby, Python, Shell,...   \n",
      "1772  sporkmonger  CSS, JavaScript, Go, Ruby, Python, C#, CoffeeS...   \n",
      "241    adelcambre        CSS, JavaScript, Starlark, C++, Ruby, Shell   \n",
      "\n",
      "                                           Repositories          Location  \\\n",
      "3097  action-gotestsum, aktarus, alpine-docker-build...  Toulouse, France   \n",
      "83    2017-talks, adventOfCode, anonymous-slack, ans...      PDX Area, OR   \n",
      "242   actions-sandbox, ale, amazon-eks-user-guide, c...  Philadelphia, PA   \n",
      "1772  acts_as_xapian, addressable, alexa, autoparse,...   Minneapolis, MN   \n",
      "241   99bottles, adelcambre.github.com, Adv360-Pro-Z...       Boulder, CO   \n",
      "\n",
      "                         Profile_URL  similarity  \n",
      "3097     https://github.com/Zenithar    0.136878  \n",
      "83      https://github.com/freeformz    0.121898  \n",
      "242           https://github.com/psi    0.118644  \n",
      "1772  https://github.com/sporkmonger    0.115532  \n",
      "241    https://github.com/adelcambre    0.112237  \n",
      "\n",
      "🔍 Recommendations for user: mojombo (filtered by location)\n",
      "     Username                                          Languages  \\\n",
      "24  KirinDave  JavaScript, Clojure, Java, Arc, PowerShell, Ru...   \n",
      "44      abhay  JavaScript, C, Jupyter Notebook, Ruby, Shell, ...   \n",
      "\n",
      "                                         Repositories           Location  \\\n",
      "24  arc, arcane_isles, atm6-sky, aws, bilecast, bu...  San Francisco, CA   \n",
      "44  abhay.github.io, addressable, app-helium, app-...  San Francisco, CA   \n",
      "\n",
      "                     Profile_URL  similarity  \n",
      "24  https://github.com/KirinDave    0.107437  \n",
      "44      https://github.com/abhay    0.103170  \n"
     ]
    },
    {
     "data": {
      "image/png": "[encoded data removed]",
      "text/plain": [
       "<Figure size 640x480 with 2 Axes>"
      ]
     },
     "metadata": {},
     "output_type": "display_data"
    }
   ],
   "source": [
    "# Example usage\n",
    "print(\"🔍 Recommendations for user: abhay\")\n",
    "print(recommend_partners('abhay'))\n",
    "\n",
    "print(\"\\n🔍 Recommendations for user: mojombo (filtered by location)\")\n",
    "print(recommend_partners('mojombo', preferred_location='San Francisco'))\n",
    "import seaborn as sns\n",
    "import matplotlib.pyplot as plt\n",
    "\n",
    "# Visualize similarity heatmap for top 10 users\n",
    "sns.heatmap(similarity_matrix[:10, :10], cmap=\"coolwarm\", xticklabels=False, yticklabels=False)\n",
    "plt.title(\"Top 10 User Similarity Heatmap (Based on Languages + Repos)\")\n",
    "plt.show()\n"
   ]
  },
  {
   "cell_type": "code",
   "execution_count": 12,
   "id": "764bde9c-4de3-4312-ac99-29fd6453329e",
   "metadata": {},
   "outputs": [
    {
     "name": "stdout",
     "output_type": "stream",
     "text": [
      "✅ content_scores.csv saved.\n"
     ]
    }
   ],
   "source": [
    "# Step: Save content-based similarity scores for all users\n",
    "content_scores_df = pd.DataFrame({\n",
    "    'Username': df['Username'],\n",
    "    'content_score': similarity_matrix.max(axis=1)  # or use average if you prefer\n",
    "})\n",
    "\n",
    "# Save to CSV\n",
    "content_scores_df.to_csv(\"../data/content_scores.csv\", index=False)\n",
    "print(\"✅ content_scores.csv saved.\")\n"
   ]
  },
  {
   "cell_type": "code",
   "execution_count": 13,
   "id": "5fb8f118-9ed2-4298-92c1-30f7740ca1d3",
   "metadata": {},
   "outputs": [
    {
     "data": {
      "image/png": "[encoded data removed]",
      "text/plain": [
       "<Figure size 640x480 with 1 Axes>"
      ]
     },
     "metadata": {},
     "output_type": "display_data"
    },
    {
     "name": "stdout",
     "output_type": "stream",
     "text": [
      "📊 Average Jaccard Similarity: 0.2176\n"
     ]
    }
   ],
   "source": [
    "import matplotlib.pyplot as plt\n",
    "\n",
    "# Choose a sample user, e.g., 'abhay'\n",
    "target_username = \"abhay\"\n",
    "\n",
    "if target_username not in df['Username'].values:\n",
    "    print(f\"❌ User '{target_username}' not found in dataset.\")\n",
    "else:\n",
    "    input_user = df[df['Username'] == target_username].iloc[0]\n",
    "    input_langs = set(str(input_user['Languages']).split(\", \"))\n",
    "\n",
    "    jaccard_scores = []\n",
    "\n",
    "    for _, row in df.iterrows():\n",
    "        if row['Username'] == target_username:\n",
    "            continue\n",
    "        user_langs = set(str(row['Languages']).split(\", \"))\n",
    "        score = len(input_langs & user_langs) / (len(input_langs | user_langs) + 1e-5)\n",
    "        jaccard_scores.append(score)\n",
    "\n",
    "    import matplotlib.pyplot as plt\n",
    "\n",
    "    # Plot similarity distribution\n",
    "    plt.hist(jaccard_scores, bins=20, color='skyblue', edgecolor='black')\n",
    "    plt.title(\"Jaccard Similarity with Target User's Languages\")\n",
    "    plt.xlabel(\"Jaccard Score\")\n",
    "    plt.ylabel(\"Number of Users\")\n",
    "    plt.grid(True)\n",
    "    plt.show()\n",
    "\n",
    "    print(f\"📊 Average Jaccard Similarity: {sum(jaccard_scores)/len(jaccard_scores):.4f}\")\n"
   ]
  },
  {
   "cell_type": "code",
   "execution_count": null,
   "id": "dc111e11-6f86-4807-9456-32e855844b96",
   "metadata": {},
   "outputs": [],
   "source": []
  }
 ],
 "metadata": {
  "kernelspec": {
   "display_name": "Python 3 (ipykernel)",
   "language": "python",
   "name": "python3"
  },
  "language_info": {
   "codemirror_mode": {
    "name": "ipython",
    "version": 3
   },
   "file_extension": ".py",
   "mimetype": "text/x-python",
   "name": "python",
   "nbconvert_exporter": "python",
   "pygments_lexer": "ipython3",
   "version": "3.12.3"
  }
 },
 "nbformat": 4,
 "nbformat_minor": 5
}
