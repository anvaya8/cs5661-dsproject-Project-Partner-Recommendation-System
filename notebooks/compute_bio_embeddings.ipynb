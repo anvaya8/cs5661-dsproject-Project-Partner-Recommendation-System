{
 "cells": [
  {
   "cell_type": "code",
   "execution_count": 2,
   "id": "ffab3f9b-cf3a-453f-b62e-b1689244cdee",
   "metadata": {},
   "outputs": [
    {
     "data": {
      "application/vnd.jupyter.widget-view+json": {
       "model_id": "d3de157b54e44976a6e4233810e34938",
       "version_major": 2,
       "version_minor": 0
      },
      "text/plain": [
       "Batches:   0%|          | 0/129 [00:00<?, ?it/s]"
      ]
     },
     "metadata": {},
     "output_type": "display_data"
    },
    {
     "name": "stdout",
     "output_type": "stream",
     "text": [
      "✅ Bio embeddings saved.\n"
     ]
    }
   ],
   "source": [
    "import pandas as pd\n",
    "import numpy as np\n",
    "from sentence_transformers import SentenceTransformer\n",
    "\n",
    "# Load cleaned GitHub dataset\n",
    "df = pd.read_csv(\"../data/cleaned_github_users.csv\")\n",
    "\n",
    "# Initialize the sentence transformer model\n",
    "model = SentenceTransformer(\"all-MiniLM-L6-v2\")\n",
    "\n",
    "# Generate embeddings for each bio\n",
    "df[\"Bio\"] = df[\"Bio\"].fillna(\"\")\n",
    "bio_embeddings = model.encode(df[\"Bio\"].tolist(), show_progress_bar=True)\n",
    "\n",
    "# Save embeddings\n",
    "np.save(\"../data/bio_embeddings.npy\", bio_embeddings)\n",
    "\n",
    "# Optionally save updated DataFrame with index for lookup\n",
    "df.to_csv(\"../data/with_bio_embeddings.csv\", index=False)\n",
    "\n",
    "print(\"✅ Bio embeddings saved.\")\n"
   ]
  },
  {
   "cell_type": "code",
   "execution_count": null,
   "id": "e770dd19-a1a8-41da-8376-9ec3f2aab8ed",
   "metadata": {},
   "outputs": [],
   "source": []
  }
 ],
 "metadata": {
  "kernelspec": {
   "display_name": "Python 3 (ipykernel)",
   "language": "python",
   "name": "python3"
  },
  "language_info": {
   "codemirror_mode": {
    "name": "ipython",
    "version": 3
   },
   "file_extension": ".py",
   "mimetype": "text/x-python",
   "name": "python",
   "nbconvert_exporter": "python",
   "pygments_lexer": "ipython3",
   "version": "3.12.3"
  }
 },
 "nbformat": 4,
 "nbformat_minor": 5
}
